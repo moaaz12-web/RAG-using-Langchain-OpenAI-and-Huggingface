{
  "nbformat": 4,
  "nbformat_minor": 0,
  "metadata": {
    "colab": {
      "provenance": [],
      "collapsed_sections": [
        "Z_A2nX3-Ptgl",
        "wxL78Mn0P3N2",
        "cJMgeAOrQfuk",
        "MHH6G318zI_D",
        "dBAWhiKDy51g"
      ],
      "include_colab_link": true
    },
    "kernelspec": {
      "name": "python3",
      "display_name": "Python 3"
    },
    "language_info": {
      "name": "python"
    }
  },
  "cells": [
    {
      "cell_type": "markdown",
      "metadata": {
        "id": "view-in-github",
        "colab_type": "text"
      },
      "source": [
        "<a href=\"https://colab.research.google.com/github/moaaz12-web/RAG-using-Langchain-OpenAI-and-Huggingface/blob/main/RAG_with_Ensemble_Retriever.ipynb\" target=\"_parent\"><img src=\"https://colab.research.google.com/assets/colab-badge.svg\" alt=\"Open In Colab\"/></a>"
      ]
    },
    {
      "cell_type": "markdown",
      "source": [
        "# Build RAG pipeline using Open Source Large Languages\n",
        "\n",
        "This notebook uses traditional Document Question Answering with different retireval techniques"
      ],
      "metadata": {
        "id": "J177jX51J1Li"
      }
    },
    {
      "cell_type": "markdown",
      "source": [
        "## Installation"
      ],
      "metadata": {
        "id": "Syag3oIcKHM0"
      }
    },
    {
      "cell_type": "code",
      "source": [
        "!pip install --upgrade --quiet  rank_bm25 > /dev/null"
      ],
      "metadata": {
        "id": "7uMqzDPzzW8i"
      },
      "execution_count": 1,
      "outputs": []
    },
    {
      "cell_type": "code",
      "source": [
        "! pip install openai tiktoken\n",
        "!pip install langchain faiss-cpu sentence-transformers chromadb\n",
        "! pip install --upgrade --quiet  \"unstructured[pdf]\"\n"
      ],
      "metadata": {
        "id": "5RXnryGTjYUY"
      },
      "execution_count": null,
      "outputs": []
    },
    {
      "cell_type": "markdown",
      "source": [
        "## Reading the data"
      ],
      "metadata": {
        "id": "a1UGsK7Uxbxj"
      }
    },
    {
      "cell_type": "code",
      "source": [
        "from langchain_community.document_loaders import UnstructuredFileLoader\n",
        "loader = UnstructuredFileLoader(\"/content/Copie authentique Bail définitif Carcassonne.pdf\")\n",
        "docs = loader.load()"
      ],
      "metadata": {
        "id": "l8cfFs69iYSI",
        "colab": {
          "base_uri": "https://localhost:8080/"
        },
        "outputId": "ec693464-1271-4461-8b26-f36667975874"
      },
      "execution_count": 3,
      "outputs": [
        {
          "output_type": "stream",
          "name": "stderr",
          "text": [
            "[nltk_data] Downloading package punkt to /root/nltk_data...\n",
            "[nltk_data]   Unzipping tokenizers/punkt.zip.\n",
            "[nltk_data] Downloading package averaged_perceptron_tagger to\n",
            "[nltk_data]     /root/nltk_data...\n",
            "[nltk_data]   Unzipping taggers/averaged_perceptron_tagger.zip.\n"
          ]
        }
      ]
    },
    {
      "cell_type": "markdown",
      "source": [
        "## Text Splitting into chunks"
      ],
      "metadata": {
        "id": "Z_A2nX3-Ptgl"
      }
    },
    {
      "cell_type": "code",
      "source": [
        "from langchain.text_splitter import RecursiveCharacterTextSplitter\n",
        "text_splitter = RecursiveCharacterTextSplitter(chunk_size=512, chunk_overlap=80)\n",
        "chunks = text_splitter.split_documents(docs)"
      ],
      "metadata": {
        "id": "Bouw0M5ANVqL"
      },
      "execution_count": 4,
      "outputs": []
    },
    {
      "cell_type": "code",
      "source": [
        "chunks[4]"
      ],
      "metadata": {
        "colab": {
          "base_uri": "https://localhost:8080/"
        },
        "id": "tYuvsTxex3_a",
        "outputId": "622fbdc3-57f1-4b12-8409-992300b5fb9a"
      },
      "execution_count": 5,
      "outputs": [
        {
          "output_type": "execute_result",
          "data": {
            "text/plain": [
              "Document(page_content='La Société dénommée BV BUROSTOC est ici représentée par Mme Karine RENERRE, clerc de Notaire domiciliée à Carcassonne 29 B Bld Marcou, agissant en vertu des pouvoirs qui lui ont été conférés aux termes d’un pouvoir sous seing privée à LES CLAYES SOUS BOIS le 3 juin 2013 par Mr Jean Baptiste EUDELINE directeur réseaux, ayant lui-même reçu tous pouvoirs par le Président Directeur Général de ladite société Monsieur Bruno PEYROLES, en vertu d’un pouvoirs sous seing-privée en date à CLAYES SOUS BOIS du 16 mai', metadata={'source': '/content/Copie authentique Bail définitif Carcassonne.pdf'})"
            ]
          },
          "metadata": {},
          "execution_count": 5
        }
      ]
    },
    {
      "cell_type": "code",
      "source": [
        "len(chunks)"
      ],
      "metadata": {
        "colab": {
          "base_uri": "https://localhost:8080/"
        },
        "id": "Fsc6K_Z3NnhT",
        "outputId": "cfbc0f83-2a82-4f0a-bfbb-c3c4b16c6156"
      },
      "execution_count": 6,
      "outputs": [
        {
          "output_type": "execute_result",
          "data": {
            "text/plain": [
              "115"
            ]
          },
          "metadata": {},
          "execution_count": 6
        }
      ]
    },
    {
      "cell_type": "markdown",
      "source": [
        "## Embeddings"
      ],
      "metadata": {
        "id": "wxL78Mn0P3N2"
      }
    },
    {
      "cell_type": "code",
      "source": [
        "from langchain.embeddings.openai import OpenAIEmbeddings\n",
        "embeddings = OpenAIEmbeddings(openai_api_key=\"YOUR_KEY\")"
      ],
      "metadata": {
        "id": "IwYMNE1GjKie",
        "colab": {
          "base_uri": "https://localhost:8080/"
        },
        "outputId": "515364db-b9ae-474a-b84e-1933bb497a77"
      },
      "execution_count": 7,
      "outputs": [
        {
          "output_type": "stream",
          "name": "stderr",
          "text": [
            "/usr/local/lib/python3.10/dist-packages/langchain_core/_api/deprecation.py:117: LangChainDeprecationWarning: The class `langchain_community.embeddings.openai.OpenAIEmbeddings` was deprecated in langchain-community 0.1.0 and will be removed in 0.2.0. An updated version of the class exists in the langchain-openai package and should be used instead. To use it run `pip install -U langchain-openai` and import as `from langchain_openai import OpenAIEmbeddings`.\n",
            "  warn_deprecated(\n"
          ]
        }
      ]
    },
    {
      "cell_type": "markdown",
      "source": [
        "## Vector Store - FAISS"
      ],
      "metadata": {
        "id": "cJMgeAOrQfuk"
      }
    },
    {
      "cell_type": "code",
      "source": [
        "from langchain.vectorstores.faiss import FAISS\n",
        "vectorstore = FAISS.from_documents(chunks, embeddings)"
      ],
      "metadata": {
        "id": "_rMc5YphQiFA"
      },
      "execution_count": 8,
      "outputs": []
    },
    {
      "cell_type": "code",
      "source": [
        "query =  \"What is the address of the premises in the commercial lease?\"\n",
        "search = vectorstore.similarity_search(query)\n",
        "search"
      ],
      "metadata": {
        "id": "FmJth21AQx8V",
        "colab": {
          "base_uri": "https://localhost:8080/"
        },
        "outputId": "5879a5d0-906f-4ca4-c42f-f573e7b42e8f"
      },
      "execution_count": 9,
      "outputs": [
        {
          "output_type": "execute_result",
          "data": {
            "text/plain": [
              "[Document(page_content='Article 1 – Etat des lieux\\n\\nLE PRENEUR prendra les lieux loués conformément au descriptif technique et plans annexés aux présentes, l’immeuble est livré brut (clos et couvert seulement réalisé par le Bailleur) en même temps que les parkings et les espaces verts et tous les autres éléments communs selon descriptif visé ci-dessus.\\n\\nUn état des lieux a été réalisé par Me HADJADJ Huissier de Justice à Carcassonne le 12 avril 2013, dont une copie est jointe et annexée aux présentes après mention.', metadata={'source': '/content/Copie authentique Bail définitif Carcassonne.pdf'}),\n",
              " Document(page_content=\"1°-1°- CONCERNANT\\n\\nPRENEUR CONCERNANT LELE PRENEUR\\n\\nLe présent bail est fait sous les charges et conditions ordinaires et de droit en pareille matière et notamment sous celles suivantes que LE PRENEUR s'oblige à bien et fidèlement exécuter à peine de tous dépens et dommages-intérêts et même de résiliation des présentes, si bon semble au BAILLEUR, savoir :\\n\\nArticle 1 – Etat des lieux\", metadata={'source': '/content/Copie authentique Bail définitif Carcassonne.pdf'}),\n",
              " Document(page_content='Toutefois pour tenir compte des aménagement effectués par le PRENEUR, le loyer de la première année sera ramenée à titre exceptionnel à CINQUANTE HUIT MILLE EUROS HORS TAXE (58 000,00 € HT), de plus il est consenti sur cette première année une franchise de loyer de deux mois, à compter de la date de départ du présent bail\\n\\nTous paiements seront effectués par virement postal ou bancaire à un compte\\n\\ndésigné au PRENEUR par LE BAILLEUR ou au domicile du BAILLEUR.', metadata={'source': '/content/Copie authentique Bail définitif Carcassonne.pdf'}),\n",
              " Document(page_content=\"4\\n\\nLIEUX DESTINATION DESDES LIEUX DESTINATION\\n\\nLE BIEN présentement loué devra servir au PRENEUR exclusivement à l'exploitation d'un fonds de commerce de Vente d’équipements de la maison et de la personne sous réserve de la mise en œuvre des dispositions de l’article L.145-47 du Code de commerce ouvrant au PRENEUR la possibilité d'adjoindre à l'activité ci-dessus prévue des activités connexes ou complémentaires.\", metadata={'source': '/content/Copie authentique Bail définitif Carcassonne.pdf'})]"
            ]
          },
          "metadata": {},
          "execution_count": 9
        }
      ]
    },
    {
      "cell_type": "markdown",
      "source": [
        "## LLM - OpenAI"
      ],
      "metadata": {
        "id": "NZZ_ODTvjhwT"
      }
    },
    {
      "cell_type": "code",
      "source": [
        "from langchain.chat_models import ChatOpenAI\n",
        "llm = ChatOpenAI(model_name='gpt-3.5-turbo', openai_api_key=\"YOUR_API_KEY\")"
      ],
      "metadata": {
        "id": "MxUNoeFeR7-u",
        "colab": {
          "base_uri": "https://localhost:8080/"
        },
        "outputId": "f334db38-0b02-451e-cc56-9d7f21f7c69e"
      },
      "execution_count": 10,
      "outputs": [
        {
          "output_type": "stream",
          "name": "stderr",
          "text": [
            "/usr/local/lib/python3.10/dist-packages/langchain_core/_api/deprecation.py:117: LangChainDeprecationWarning: The class `langchain_community.chat_models.openai.ChatOpenAI` was deprecated in langchain-community 0.0.10 and will be removed in 0.2.0. An updated version of the class exists in the langchain-openai package and should be used instead. To use it run `pip install -U langchain-openai` and import as `from langchain_openai import ChatOpenAI`.\n",
            "  warn_deprecated(\n"
          ]
        }
      ]
    },
    {
      "cell_type": "markdown",
      "source": [
        "## Retrievers"
      ],
      "metadata": {
        "id": "4mVaIlkZRiXk"
      }
    },
    {
      "cell_type": "markdown",
      "source": [
        "### TYPICAL RETRIEVER\n"
      ],
      "metadata": {
        "id": "MHH6G318zI_D"
      }
    },
    {
      "cell_type": "code",
      "source": [
        "retriever = vectorstore.as_retriever(\n",
        "    search_type=\"mmr\", #similarity\n",
        "    search_kwargs={'k': 4}\n",
        ")"
      ],
      "metadata": {
        "id": "yMSENw6ZzK__"
      },
      "execution_count": 11,
      "outputs": []
    },
    {
      "cell_type": "markdown",
      "source": [
        "### MULTI-QUERY RETREIVER"
      ],
      "metadata": {
        "id": "VhzpLkLeyFkv"
      }
    },
    {
      "cell_type": "code",
      "source": [
        "from langchain.retrievers.multi_query import MultiQueryRetriever\n",
        "retriever_mquery = MultiQueryRetriever.from_llm(\n",
        "    retriever=vectorstore.as_retriever(), llm=llm\n",
        ")"
      ],
      "metadata": {
        "id": "Qg9E3XgGrJc2"
      },
      "execution_count": 13,
      "outputs": []
    },
    {
      "cell_type": "markdown",
      "source": [
        "### BM25Retriever"
      ],
      "metadata": {
        "id": "dBAWhiKDy51g"
      }
    },
    {
      "cell_type": "code",
      "source": [
        "from langchain.retrievers import BM25Retriever\n",
        "bm25_retriever=BM25Retriever.from_documents(docs)\n",
        "bm25_retriever.k=1\n"
      ],
      "metadata": {
        "id": "oUqH5bzDrTT5"
      },
      "execution_count": 12,
      "outputs": []
    },
    {
      "cell_type": "markdown",
      "source": [
        "### Ensemble retriever"
      ],
      "metadata": {
        "id": "0GnzuEECy7q7"
      }
    },
    {
      "cell_type": "code",
      "source": [
        "from langchain.retrievers import EnsembleRetriever\n",
        "\n",
        "# initialize the ensemble retriever\n",
        "ensemble_retriever = EnsembleRetriever(\n",
        "    retrievers=[retriever_mquery, retriever], weights=[0.8, 0.2]\n",
        ")"
      ],
      "metadata": {
        "id": "ZrcWHZAErdFA"
      },
      "execution_count": 14,
      "outputs": []
    },
    {
      "cell_type": "markdown",
      "source": [
        "## PROMPT TEMPLATE"
      ],
      "metadata": {
        "id": "_dy-nCxqTQTG"
      }
    },
    {
      "cell_type": "code",
      "source": [
        "# prompt_str = \"\"\"You are provided some context below\n",
        "# and then there is a question.\n",
        "# You need to answer the question using that context.\n",
        "# If you don't know the answer or can't find it, say SORRY I DONT KNOW:\n",
        "\n",
        "# Context: {context}\n",
        "\n",
        "# Question: {question}\n",
        "\n",
        "# Answer: \"\"\"\n",
        "\n",
        "prompt_str =\"\"\"Vous êtes fourni avec un contexte ci-dessous\n",
        "et ensuite il y a une question.\n",
        "Vous devez répondre à la question en utilisant ce contexte.\n",
        "Si vous ne connaissez pas la réponse ou ne pouvez pas la trouver, dites DÉSOLÉ, JE NE SAIS PAS :\n",
        "\n",
        "Contexte : {contexte}\n",
        "\n",
        "Question : {question}\n",
        "\n",
        "Réponse : \"\"\"\n",
        "\n",
        "from langchain.prompts import ChatPromptTemplate\n",
        "prompt = ChatPromptTemplate.from_template(prompt_str)"
      ],
      "metadata": {
        "id": "C_pCkm2jTHtH"
      },
      "execution_count": 15,
      "outputs": []
    },
    {
      "cell_type": "markdown",
      "source": [
        "## OUTPUT PARSER"
      ],
      "metadata": {
        "id": "I1jgz46zz7ya"
      }
    },
    {
      "cell_type": "code",
      "source": [
        "from langchain.schema.output_parser import StrOutputParser\n",
        "output_parser = StrOutputParser()"
      ],
      "metadata": {
        "id": "hpme0JEHzqvn"
      },
      "execution_count": 16,
      "outputs": []
    },
    {
      "cell_type": "markdown",
      "source": [
        "## BUILDING CHAIN USING LECL"
      ],
      "metadata": {
        "id": "tg3j9j-y0Cu1"
      }
    },
    {
      "cell_type": "code",
      "source": [
        "from langchain_core.runnables import (\n",
        "    RunnableParallel,\n",
        "    RunnablePassthrough\n",
        ")"
      ],
      "metadata": {
        "id": "_QxbNZ5Mz35-"
      },
      "execution_count": 17,
      "outputs": []
    },
    {
      "cell_type": "code",
      "source": [
        "retrieval = RunnableParallel(\n",
        "    {\"contexte\": ensemble_retriever, \"question\": RunnablePassthrough()}\n",
        ")\n",
        "\n",
        "chain = retrieval | prompt | llm | output_parser"
      ],
      "metadata": {
        "id": "wNi4XxHannij"
      },
      "execution_count": 18,
      "outputs": []
    },
    {
      "cell_type": "markdown",
      "source": [
        "Sample questions in french\n"
      ],
      "metadata": {
        "id": "q3r22fCn1dlF"
      }
    },
    {
      "cell_type": "markdown",
      "source": [
        "what is the rent for the commercial lease?\n",
        "\n",
        "What is the name of Lessor / Name of Landlord / Address of the premises?"
      ],
      "metadata": {
        "id": "yaf8QETto0rX"
      }
    },
    {
      "cell_type": "code",
      "source": [
        "out = chain.invoke(\"Quel est le loyer inscrit dans le contrat?\")\n",
        "print(out)"
      ],
      "metadata": {
        "id": "nnYWzCHVn8jj",
        "outputId": "6f6de6bb-3bc1-4189-acc6-b0941fde1e60",
        "colab": {
          "base_uri": "https://localhost:8080/"
        }
      },
      "execution_count": 21,
      "outputs": [
        {
          "output_type": "stream",
          "name": "stdout",
          "text": [
            "Le loyer inscrit dans le contrat est de SOIXANTE CINQ MILLE EUROS (65.000,00 €) Hors Taxes par an.\n"
          ]
        }
      ]
    },
    {
      "cell_type": "markdown",
      "source": [
        "Q1: Quel est le nom du bailleur?\n",
        "\n",
        "A1: Le nom du bailleur est SC LES AGRIERS.\n",
        "\n",
        "\n",
        "Q2: Quel est le nom de la société locataire?\n",
        "\n",
        "A2:BV BUROSTOC\n",
        "\n",
        "Q3: Quel est le loyer inscrit dans le contrat?\n",
        "\n",
        "A3: Le loyer inscrit dans le contrat est de SOIXANTE CINQ MILLE EUROS (65.000,00 €) Hors Taxes par an.\n",
        "\n"
      ],
      "metadata": {
        "id": "XqO4dObeb_GW"
      }
    },
    {
      "cell_type": "code",
      "source": [],
      "metadata": {
        "id": "vyKHBGBgoh_J"
      },
      "execution_count": null,
      "outputs": []
    }
  ]
}
